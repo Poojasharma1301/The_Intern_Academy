{
  "nbformat": 4,
  "nbformat_minor": 0,
  "metadata": {
    "colab": {
      "name": "TheInternAcademy_Task3.ipynb",
      "provenance": []
    },
    "kernelspec": {
      "name": "python3",
      "display_name": "Python 3"
    },
    "language_info": {
      "name": "python"
    }
  },
  "cells": [
    {
      "cell_type": "markdown",
      "metadata": {
        "id": "Fg3hS-sUqQ8w"
      },
      "source": [
        "# The Intern Academy Data Science Monsoon Internship\n",
        "## Team Name: Code Eclipse\n",
        "Team Members:<br>\n",
        "1.Tejas Vaity\n",
        "\n",
        "2.Tushar Amdoskar\n",
        "\n",
        "3.Pooja Sharma\n",
        "\n",
        "## TASK 3: Problem Statement:\n",
        "\n",
        "In today’s world banking is also a platform which is almost automated. However many people face different issues during online banking and also many are not aware of correct safety measure for their accounts. To create a bot using Natural Language Processing and deep learning which will be able to give answers for various banking related issues like your bank id, transaction details, Security services, loan policies, your account status etc.\n",
        "\n",
        "Here the objectives are:-\n",
        "\n",
        "To create a bot mobile app which can give answers to all your banking related queries.\n",
        "\n",
        "Keep you updated with your transaction activity so any kind fraud can be avoided.\n",
        "\n",
        "Also give you alert signs if find any suspicious activity in your account.\n",
        "\n"
      ]
    },
    {
      "cell_type": "code",
      "metadata": {
        "id": "r_bpwULvXNPy",
        "colab": {
          "base_uri": "https://localhost:8080/"
        },
        "outputId": "0dd0a710-3fa9-4499-fe53-da72082c3e78"
      },
      "source": [
        "# Importing the required libraries\n",
        "\n",
        "import numpy as np\n",
        "import pandas as pd\n",
        "import seaborn as sns\n",
        "import matplotlib.pyplot as plt\n",
        "%matplotlib inline\n",
        "\n",
        "# To ignore the warnings\n",
        "import warnings as wg\n",
        "wg.filterwarnings(\"ignore\")\n",
        "\n",
        "print('Import Successfully')\n"
      ],
      "execution_count": 2,
      "outputs": [
        {
          "output_type": "stream",
          "name": "stdout",
          "text": [
            "Import Successfully\n"
          ]
        }
      ]
    },
    {
      "cell_type": "code",
      "metadata": {
        "id": "zxN08nY4eLqV"
      },
      "source": [
        "from google.colab import drive"
      ],
      "execution_count": 3,
      "outputs": []
    },
    {
      "cell_type": "code",
      "metadata": {
        "colab": {
          "base_uri": "https://localhost:8080/"
        },
        "id": "PthkJ0_HE_T7",
        "outputId": "0cb836d8-cabd-40a3-d5ea-f193b24c2fe7"
      },
      "source": [
        "drive.mount('/content/drive')"
      ],
      "execution_count": 4,
      "outputs": [
        {
          "output_type": "stream",
          "name": "stdout",
          "text": [
            "Mounted at /content/drive\n"
          ]
        }
      ]
    },
    {
      "cell_type": "code",
      "metadata": {
        "id": "aT2OuNvTFEQi"
      },
      "source": [
        "data = pd.read_csv('/content/drive/MyDrive/BankFAQs.csv')"
      ],
      "execution_count": 5,
      "outputs": []
    },
    {
      "cell_type": "code",
      "metadata": {
        "colab": {
          "base_uri": "https://localhost:8080/",
          "height": 204
        },
        "id": "6gaw85pADj_L",
        "outputId": "63db62f5-765f-4d2b-acea-22e705abd30e"
      },
      "source": [
        "data.head()"
      ],
      "execution_count": 6,
      "outputs": [
        {
          "output_type": "execute_result",
          "data": {
            "text/html": [
              "<div>\n",
              "<style scoped>\n",
              "    .dataframe tbody tr th:only-of-type {\n",
              "        vertical-align: middle;\n",
              "    }\n",
              "\n",
              "    .dataframe tbody tr th {\n",
              "        vertical-align: top;\n",
              "    }\n",
              "\n",
              "    .dataframe thead th {\n",
              "        text-align: right;\n",
              "    }\n",
              "</style>\n",
              "<table border=\"1\" class=\"dataframe\">\n",
              "  <thead>\n",
              "    <tr style=\"text-align: right;\">\n",
              "      <th></th>\n",
              "      <th>Question</th>\n",
              "      <th>Answer</th>\n",
              "      <th>Class</th>\n",
              "    </tr>\n",
              "  </thead>\n",
              "  <tbody>\n",
              "    <tr>\n",
              "      <th>0</th>\n",
              "      <td>Do I need to enter ‘#’ after keying in my Card...</td>\n",
              "      <td>Please listen to the recorded message and foll...</td>\n",
              "      <td>security</td>\n",
              "    </tr>\n",
              "    <tr>\n",
              "      <th>1</th>\n",
              "      <td>What details are required when I want to perfo...</td>\n",
              "      <td>To perform a secure IVR transaction, you will ...</td>\n",
              "      <td>security</td>\n",
              "    </tr>\n",
              "    <tr>\n",
              "      <th>2</th>\n",
              "      <td>How should I get the IVR Password  if I hold a...</td>\n",
              "      <td>An IVR password can be requested only from the...</td>\n",
              "      <td>security</td>\n",
              "    </tr>\n",
              "    <tr>\n",
              "      <th>3</th>\n",
              "      <td>How do I register my Mobile number for IVR Pas...</td>\n",
              "      <td>Please call our Customer Service Centre and en...</td>\n",
              "      <td>security</td>\n",
              "    </tr>\n",
              "    <tr>\n",
              "      <th>4</th>\n",
              "      <td>How can I obtain an IVR Password</td>\n",
              "      <td>By Sending SMS request: Send an SMS 'PWD&lt;space...</td>\n",
              "      <td>security</td>\n",
              "    </tr>\n",
              "  </tbody>\n",
              "</table>\n",
              "</div>"
            ],
            "text/plain": [
              "                                            Question  ...     Class\n",
              "0  Do I need to enter ‘#’ after keying in my Card...  ...  security\n",
              "1  What details are required when I want to perfo...  ...  security\n",
              "2  How should I get the IVR Password  if I hold a...  ...  security\n",
              "3  How do I register my Mobile number for IVR Pas...  ...  security\n",
              "4                  How can I obtain an IVR Password   ...  security\n",
              "\n",
              "[5 rows x 3 columns]"
            ]
          },
          "metadata": {},
          "execution_count": 6
        }
      ]
    },
    {
      "cell_type": "code",
      "metadata": {
        "colab": {
          "base_uri": "https://localhost:8080/",
          "height": 204
        },
        "id": "-WVbkeJqEEso",
        "outputId": "0459faf5-fa24-4070-ad12-5a5ad0157f80"
      },
      "source": [
        "data.tail()"
      ],
      "execution_count": 7,
      "outputs": [
        {
          "output_type": "execute_result",
          "data": {
            "text/html": [
              "<div>\n",
              "<style scoped>\n",
              "    .dataframe tbody tr th:only-of-type {\n",
              "        vertical-align: middle;\n",
              "    }\n",
              "\n",
              "    .dataframe tbody tr th {\n",
              "        vertical-align: top;\n",
              "    }\n",
              "\n",
              "    .dataframe thead th {\n",
              "        text-align: right;\n",
              "    }\n",
              "</style>\n",
              "<table border=\"1\" class=\"dataframe\">\n",
              "  <thead>\n",
              "    <tr style=\"text-align: right;\">\n",
              "      <th></th>\n",
              "      <th>Question</th>\n",
              "      <th>Answer</th>\n",
              "      <th>Class</th>\n",
              "    </tr>\n",
              "  </thead>\n",
              "  <tbody>\n",
              "    <tr>\n",
              "      <th>1759</th>\n",
              "      <td>What if I forget my Prepaid NetBanking login P...</td>\n",
              "      <td>If you have forgotten the Password, then the s...</td>\n",
              "      <td>cards</td>\n",
              "    </tr>\n",
              "    <tr>\n",
              "      <th>1760</th>\n",
              "      <td>What is the maximum value for which the Card c...</td>\n",
              "      <td>There is no limit imposed on the usage of Rega...</td>\n",
              "      <td>cards</td>\n",
              "    </tr>\n",
              "    <tr>\n",
              "      <th>1761</th>\n",
              "      <td>What options should I choose to withdraw cash ...</td>\n",
              "      <td>Generally, the options available at the ATM fo...</td>\n",
              "      <td>cards</td>\n",
              "    </tr>\n",
              "    <tr>\n",
              "      <th>1762</th>\n",
              "      <td>What should I do and whom to contact if my car...</td>\n",
              "      <td>In case your card gets lost or stolen, all you...</td>\n",
              "      <td>cards</td>\n",
              "    </tr>\n",
              "    <tr>\n",
              "      <th>1763</th>\n",
              "      <td>Are there extra charges to be aware of</td>\n",
              "      <td>A few things to note - US Banks are given the ...</td>\n",
              "      <td>cards</td>\n",
              "    </tr>\n",
              "  </tbody>\n",
              "</table>\n",
              "</div>"
            ],
            "text/plain": [
              "                                               Question  ...  Class\n",
              "1759  What if I forget my Prepaid NetBanking login P...  ...  cards\n",
              "1760  What is the maximum value for which the Card c...  ...  cards\n",
              "1761  What options should I choose to withdraw cash ...  ...  cards\n",
              "1762  What should I do and whom to contact if my car...  ...  cards\n",
              "1763             Are there extra charges to be aware of  ...  cards\n",
              "\n",
              "[5 rows x 3 columns]"
            ]
          },
          "metadata": {},
          "execution_count": 7
        }
      ]
    },
    {
      "cell_type": "code",
      "metadata": {
        "colab": {
          "base_uri": "https://localhost:8080/"
        },
        "id": "i5wLF0ByEIpj",
        "outputId": "48839385-812d-48db-cb2f-5bb51f3b08fe"
      },
      "source": [
        "data.shape"
      ],
      "execution_count": 8,
      "outputs": [
        {
          "output_type": "execute_result",
          "data": {
            "text/plain": [
              "(1764, 3)"
            ]
          },
          "metadata": {},
          "execution_count": 8
        }
      ]
    },
    {
      "cell_type": "code",
      "metadata": {
        "colab": {
          "base_uri": "https://localhost:8080/"
        },
        "id": "FMtByvJVEKcx",
        "outputId": "d6d57ef0-e49f-4d54-f879-a52fc587e4ea"
      },
      "source": [
        "data.dtypes"
      ],
      "execution_count": 9,
      "outputs": [
        {
          "output_type": "execute_result",
          "data": {
            "text/plain": [
              "Question    object\n",
              "Answer      object\n",
              "Class       object\n",
              "dtype: object"
            ]
          },
          "metadata": {},
          "execution_count": 9
        }
      ]
    },
    {
      "cell_type": "code",
      "metadata": {
        "colab": {
          "base_uri": "https://localhost:8080/"
        },
        "id": "i_Eud1yPEO4V",
        "outputId": "bbf87cf7-68aa-41d9-93af-2d4fd81c54f8"
      },
      "source": [
        "data.isnull().sum()"
      ],
      "execution_count": 10,
      "outputs": [
        {
          "output_type": "execute_result",
          "data": {
            "text/plain": [
              "Question    0\n",
              "Answer      0\n",
              "Class       0\n",
              "dtype: int64"
            ]
          },
          "metadata": {},
          "execution_count": 10
        }
      ]
    },
    {
      "cell_type": "code",
      "metadata": {
        "colab": {
          "base_uri": "https://localhost:8080/",
          "height": 173
        },
        "id": "3Rfp6AEmET6M",
        "outputId": "fd7b7fcb-9b92-486f-aee1-58fd51158949"
      },
      "source": [
        "data.describe()"
      ],
      "execution_count": 11,
      "outputs": [
        {
          "output_type": "execute_result",
          "data": {
            "text/html": [
              "<div>\n",
              "<style scoped>\n",
              "    .dataframe tbody tr th:only-of-type {\n",
              "        vertical-align: middle;\n",
              "    }\n",
              "\n",
              "    .dataframe tbody tr th {\n",
              "        vertical-align: top;\n",
              "    }\n",
              "\n",
              "    .dataframe thead th {\n",
              "        text-align: right;\n",
              "    }\n",
              "</style>\n",
              "<table border=\"1\" class=\"dataframe\">\n",
              "  <thead>\n",
              "    <tr style=\"text-align: right;\">\n",
              "      <th></th>\n",
              "      <th>Question</th>\n",
              "      <th>Answer</th>\n",
              "      <th>Class</th>\n",
              "    </tr>\n",
              "  </thead>\n",
              "  <tbody>\n",
              "    <tr>\n",
              "      <th>count</th>\n",
              "      <td>1764</td>\n",
              "      <td>1764</td>\n",
              "      <td>1764</td>\n",
              "    </tr>\n",
              "    <tr>\n",
              "      <th>unique</th>\n",
              "      <td>1334</td>\n",
              "      <td>1440</td>\n",
              "      <td>7</td>\n",
              "    </tr>\n",
              "    <tr>\n",
              "      <th>top</th>\n",
              "      <td>How can I change the mode of repayment/ accoun...</td>\n",
              "      <td>Post Dated Cheques(PDCs)/Security Cheques subm...</td>\n",
              "      <td>insurance</td>\n",
              "    </tr>\n",
              "    <tr>\n",
              "      <th>freq</th>\n",
              "      <td>18</td>\n",
              "      <td>17</td>\n",
              "      <td>469</td>\n",
              "    </tr>\n",
              "  </tbody>\n",
              "</table>\n",
              "</div>"
            ],
            "text/plain": [
              "                                                 Question  ...      Class\n",
              "count                                                1764  ...       1764\n",
              "unique                                               1334  ...          7\n",
              "top     How can I change the mode of repayment/ accoun...  ...  insurance\n",
              "freq                                                   18  ...        469\n",
              "\n",
              "[4 rows x 3 columns]"
            ]
          },
          "metadata": {},
          "execution_count": 11
        }
      ]
    },
    {
      "cell_type": "code",
      "metadata": {
        "colab": {
          "base_uri": "https://localhost:8080/"
        },
        "id": "yE8cWuKPGfFe",
        "outputId": "aa800ce4-a1c5-405f-d598-4498aa3beefd"
      },
      "source": [
        "data.info()"
      ],
      "execution_count": 12,
      "outputs": [
        {
          "output_type": "stream",
          "name": "stdout",
          "text": [
            "<class 'pandas.core.frame.DataFrame'>\n",
            "RangeIndex: 1764 entries, 0 to 1763\n",
            "Data columns (total 3 columns):\n",
            " #   Column    Non-Null Count  Dtype \n",
            "---  ------    --------------  ----- \n",
            " 0   Question  1764 non-null   object\n",
            " 1   Answer    1764 non-null   object\n",
            " 2   Class     1764 non-null   object\n",
            "dtypes: object(3)\n",
            "memory usage: 41.5+ KB\n"
          ]
        }
      ]
    },
    {
      "cell_type": "code",
      "metadata": {
        "colab": {
          "base_uri": "https://localhost:8080/",
          "height": 32
        },
        "id": "yStd-CH9GrfM",
        "outputId": "2be855f8-7ac9-499b-da65-31aaf0df31fb"
      },
      "source": [
        "data.corr()"
      ],
      "execution_count": 13,
      "outputs": [
        {
          "output_type": "execute_result",
          "data": {
            "text/html": [
              "<div>\n",
              "<style scoped>\n",
              "    .dataframe tbody tr th:only-of-type {\n",
              "        vertical-align: middle;\n",
              "    }\n",
              "\n",
              "    .dataframe tbody tr th {\n",
              "        vertical-align: top;\n",
              "    }\n",
              "\n",
              "    .dataframe thead th {\n",
              "        text-align: right;\n",
              "    }\n",
              "</style>\n",
              "<table border=\"1\" class=\"dataframe\">\n",
              "  <thead>\n",
              "    <tr style=\"text-align: right;\">\n",
              "      <th></th>\n",
              "    </tr>\n",
              "  </thead>\n",
              "  <tbody>\n",
              "  </tbody>\n",
              "</table>\n",
              "</div>"
            ],
            "text/plain": [
              "Empty DataFrame\n",
              "Columns: []\n",
              "Index: []"
            ]
          },
          "metadata": {},
          "execution_count": 13
        }
      ]
    },
    {
      "cell_type": "code",
      "metadata": {
        "id": "o9jM4SjVGwKj"
      },
      "source": [
        "\n",
        "def print_unique_col_values(data):\n",
        "       for column in data:\n",
        "            if data[column].dtypes=='object':\n",
        "                print(f'{column}: {data[column].unique()}')"
      ],
      "execution_count": 14,
      "outputs": []
    },
    {
      "cell_type": "code",
      "metadata": {
        "colab": {
          "base_uri": "https://localhost:8080/"
        },
        "id": "IllTBXmNG6g_",
        "outputId": "00afd02d-306e-489e-ebcb-c981fdd9f787"
      },
      "source": [
        "print_unique_col_values(data)"
      ],
      "execution_count": 15,
      "outputs": [
        {
          "output_type": "stream",
          "name": "stdout",
          "text": [
            "Question: ['Do I need to enter ‘#’ after keying in my Card number/ Card expiry date/ CVV number'\n",
            " 'What details are required when I want to perform a secure IVR transaction'\n",
            " 'How should I get the IVR Password  if I hold an add-on card' ...\n",
            " 'What if I Already Earn Rewards with My Card'\n",
            " 'What if I forget my Prepaid NetBanking login Password'\n",
            " 'What should I do and whom to contact if my card is lost']\n",
            "Answer: ['Please listen to the recorded message and follow the instructions while entering your card details.'\n",
            " 'To perform a secure IVR transaction, you will need your 16-digit Card number, Card expiry date, CVV number, mobile number and IVR password.'\n",
            " 'An IVR password can be requested only from the registered mobile number and will be sent to the registered mobile number / email ID of the primary card holder only.'\n",
            " ...\n",
            " 'There is no limit imposed on the usage of Regalia ForexPlus Card. You can withdraw/utilise any amount, upto the value loaded on Regalia ForexPlus Card at any ATM/POS. However, there are some ATMs service providers which have put in per day / per transaction limit towards cash dispense which cannot be changed by the Bank. In such cases the cardholder might need to do multiple transactions if he wants to withdraw any amount higher than that allowed in one transaction.'\n",
            " 'Generally, the options available at the ATM for cash withdrawal are Checking, Credit, and Savings. You should choose the Checking/Current option. In case the Checking /Current option is not available, you should select the Credit option.'\n",
            " 'In case your card gets lost or stolen, all you have to do is call HDFC Bank Phone Banking immediately and report the loss of your card. This facility is available 24 hrs on all days. The card can also be hotlisted using our Prepaid card NetBanking facility on www.hdfcbank.com']\n",
            "Class: ['security' 'loans' 'accounts' 'insurance' 'investments' 'fundstransfer'\n",
            " 'cards']\n"
          ]
        }
      ]
    },
    {
      "cell_type": "code",
      "metadata": {
        "id": "2X5WM9ZOG9WW"
      },
      "source": [
        "import pickle\n",
        "import operator\n",
        "from sklearn.svm import SVC\n",
        "from sklearn.model_selection import train_test_split as tts\n",
        "from sklearn.feature_extraction.text import TfidfVectorizer\n",
        "from sklearn.preprocessing import LabelEncoder as LE\n",
        "from sklearn.metrics.pairwise import cosine_similarity\n",
        "import random\n",
        "import nltk\n",
        "from nltk.stem.lancaster import LancasterStemmer"
      ],
      "execution_count": 16,
      "outputs": []
    },
    {
      "cell_type": "code",
      "metadata": {
        "id": "00YNJ6W-HvR6"
      },
      "source": [
        "stemmer = LancasterStemmer()"
      ],
      "execution_count": 17,
      "outputs": []
    },
    {
      "cell_type": "code",
      "metadata": {
        "id": "TKQ1J1rUIeYS"
      },
      "source": [
        "def cleanup(sentence):\n",
        "    word_tok = nltk.word_tokenize(sentence)\n",
        "    stemmed_words = [stemmer.stem(w) for w in word_tok]\n",
        "\n",
        "    return ' '.join(stemmed_words)"
      ],
      "execution_count": 18,
      "outputs": []
    },
    {
      "cell_type": "code",
      "metadata": {
        "id": "HJlsGX0VIiUU"
      },
      "source": [
        "le = LE()"
      ],
      "execution_count": 19,
      "outputs": []
    },
    {
      "cell_type": "code",
      "metadata": {
        "id": "Z3qX1PsKIl1a"
      },
      "source": [
        "tfv = TfidfVectorizer(min_df=1, stop_words='english')"
      ],
      "execution_count": 20,
      "outputs": []
    },
    {
      "cell_type": "code",
      "metadata": {
        "id": "wap0FbdRIovg"
      },
      "source": [
        "\n",
        "questions = data['Question'].values"
      ],
      "execution_count": 21,
      "outputs": []
    },
    {
      "cell_type": "code",
      "metadata": {
        "colab": {
          "base_uri": "https://localhost:8080/"
        },
        "id": "cnll_NoIIsNc",
        "outputId": "7d5dc99b-bd31-48ef-c732-4d961811b6fe"
      },
      "source": [
        "import nltk\n",
        "nltk.download('punkt')"
      ],
      "execution_count": 22,
      "outputs": [
        {
          "output_type": "stream",
          "name": "stdout",
          "text": [
            "[nltk_data] Downloading package punkt to /root/nltk_data...\n",
            "[nltk_data]   Unzipping tokenizers/punkt.zip.\n"
          ]
        },
        {
          "output_type": "execute_result",
          "data": {
            "text/plain": [
              "True"
            ]
          },
          "metadata": {},
          "execution_count": 22
        }
      ]
    },
    {
      "cell_type": "code",
      "metadata": {
        "id": "c8xN8PlxIvn2"
      },
      "source": [
        "X = []\n",
        "for question in questions:\n",
        "    X.append(cleanup(question))"
      ],
      "execution_count": 23,
      "outputs": []
    },
    {
      "cell_type": "code",
      "metadata": {
        "colab": {
          "base_uri": "https://localhost:8080/"
        },
        "id": "_UR3U_q6Iym9",
        "outputId": "066fa58e-32be-4a24-9471-5d744d49563c"
      },
      "source": [
        "tfv.fit(X)\n",
        "le.fit(data['Class'])"
      ],
      "execution_count": 24,
      "outputs": [
        {
          "output_type": "execute_result",
          "data": {
            "text/plain": [
              "LabelEncoder()"
            ]
          },
          "metadata": {},
          "execution_count": 24
        }
      ]
    },
    {
      "cell_type": "code",
      "metadata": {
        "id": "D6PUwJA3I1-2"
      },
      "source": [
        "X = tfv.transform(X)\n",
        "y = le.transform(data['Class'])"
      ],
      "execution_count": 25,
      "outputs": []
    },
    {
      "cell_type": "code",
      "metadata": {
        "id": "6LjTy9CzI5j5"
      },
      "source": [
        "trainx, testx, trainy, testy = tts(X, y, test_size=.25, random_state=42)"
      ],
      "execution_count": 26,
      "outputs": []
    },
    {
      "cell_type": "code",
      "metadata": {
        "colab": {
          "base_uri": "https://localhost:8080/"
        },
        "id": "xpmOArErI7xj",
        "outputId": "75db8de7-2b50-4650-92b3-4ebd1d1df250"
      },
      "source": [
        "\n",
        "model = SVC(kernel='linear')\n",
        "model.fit(trainx, trainy)\n",
        "print(\"SVC:\", model.score(testx, testy))"
      ],
      "execution_count": 38,
      "outputs": [
        {
          "output_type": "stream",
          "name": "stdout",
          "text": [
            "SVC: 0.927437641723356\n"
          ]
        }
      ]
    },
    {
      "cell_type": "code",
      "metadata": {
        "id": "6Sxh3cZbI-RZ"
      },
      "source": [
        "def get_max5(arr):\n",
        "    ixarr = []\n",
        "    for ix, el in enumerate(arr):\n",
        "        ixarr.append((el, ix))\n",
        "    ixarr.sort()\n",
        "\n",
        "    ixs = []\n",
        "    for i in ixarr[-5:]:\n",
        "        ixs.append(i[1])\n",
        "\n",
        "    return ixs[::-1]"
      ],
      "execution_count": 39,
      "outputs": []
    },
    {
      "cell_type": "code",
      "metadata": {
        "colab": {
          "base_uri": "https://localhost:8080/"
        },
        "id": "Yyl4plbHLDxM",
        "outputId": "87b2d8b9-e4cc-4758-e750-66ac84eb1ae7"
      },
      "source": [
        "def chat():\n",
        "    cnt = 0\n",
        "    print(\"PRESS Q to QUIT\")\n",
        "    print(\"TYPE \\\"DEBUG\\\" to Display Debugging statements.\")\n",
        "    print(\"TYPE \\\"STOP\\\" to Stop Debugging statements.\")\n",
        "    print(\"TYPE \\\"TOP5\\\" to Display 5 most relevent results\")\n",
        "    print(\"TYPE \\\"CONF\\\" to Display the most confident result\")\n",
        "    print()\n",
        "    print()\n",
        "    DEBUG = False\n",
        "    TOP5 = False\n",
        "\n",
        "    print(\"Bot: Hi, Welcome to our bank!\")\n",
        "    while True:\n",
        "        usr = input(\"You: \")\n",
        "\n",
        "        if usr.lower() == 'yes':\n",
        "            print(\"Bot: Yes!\")\n",
        "            continue\n",
        "\n",
        "        if usr.lower() == 'no':\n",
        "            print(\"Bot: No?\")\n",
        "            continue\n",
        "\n",
        "        if usr == 'DEBUG':\n",
        "            DEBUG = True\n",
        "            print(\"Debugging mode on\")\n",
        "            continue\n",
        "            \n",
        "        if usr == 'STOP':\n",
        "            DEBUG = False\n",
        "            print(\"Debugging mode off\")\n",
        "            continue\n",
        "\n",
        "        if usr == 'Q':\n",
        "            print(\"Bot: It was good to be of help.\")\n",
        "            break\n",
        "\n",
        "        if usr == 'TOP5':\n",
        "            TOP5 = True\n",
        "            print(\"Will display 5 most relevent results now\")\n",
        "            continue\n",
        "\n",
        "        if usr == 'CONF':\n",
        "            TOP5 = False\n",
        "            print(\"Only the most relevent result will be displayed\")\n",
        "            continue\n",
        "\n",
        "        t_usr = tfv.transform([cleanup(usr.strip().lower())])\n",
        "        class_ = le.inverse_transform(model.predict(t_usr)[0])\n",
        "        questionset = data[data['Class']==class_]\n",
        "        \n",
        "        if DEBUG:\n",
        "            print(\"Question classified under category:\", class_)\n",
        "            print(\"{} Questions belong to this class\".format(len(questionset)))\n",
        "\n",
        "        cos_sims = []\n",
        "        for question in questionset['Question']:\n",
        "            sims = cosine_similarity(tfv.transform([question]), t_usr)\n",
        "            cos_sims.append(sims)\n",
        "            \n",
        "        ind = cos_sims.index(max(cos_sims))\n",
        "\n",
        "        if DEBUG:\n",
        "            question = questionset[\"Question\"][questionset.index[ind]]\n",
        "            print(\"Assuming you asked: {}\".format(question))\n",
        "\n",
        "        if not TOP5:\n",
        "            print(\"Bot:\", data['Answer'][questionset.index[ind]])\n",
        "        else:\n",
        "            inds = get_max5(cos_sims)\n",
        "            for ix in inds:\n",
        "                print(\"Question: \"+data['Question'][questionset.index[ix]])\n",
        "                print(\"Answer: \"+data['Answer'][questionset.index[ix]])\n",
        "                print('-'*50)\n",
        "\n",
        "        print(\"\\n\"*2)\n",
        "        outcome = input(\"Was this answer helpful? Yes/No: \").lower().strip()\n",
        "        if outcome == 'yes':\n",
        "            cnt = 0\n",
        "        elif outcome == 'no':\n",
        "            inds = get_max5(cos_sims)\n",
        "            sugg_choice = input(\"Bot: Do you want me to suggest you questions ? Yes/No: \").lower()\n",
        "            if sugg_choice == 'yes':\n",
        "                q_cnt = 1\n",
        "                for ix in inds:\n",
        "                    print(q_cnt,\"Question: \"+data['Question'][questionset.index[ix]])\n",
        "                    # print(\"Answer: \"+data['Answer'][questionset.index[ix]])\n",
        "                    print('-'*50)\n",
        "                    q_cnt += 1\n",
        "                num = int(input(\"Please enter the question number you find most relevant: \"))\n",
        "                print(\"Bot: \", data['Answer'][questionset.index[inds[num-1]]])\n",
        "\n",
        "\n",
        "chat()\n"
      ],
      "execution_count": 40,
      "outputs": [
        {
          "output_type": "stream",
          "name": "stdout",
          "text": [
            "PRESS Q to QUIT\n",
            "TYPE \"DEBUG\" to Display Debugging statements.\n",
            "TYPE \"STOP\" to Stop Debugging statements.\n",
            "TYPE \"TOP5\" to Display 5 most relevent results\n",
            "TYPE \"CONF\" to Display the most confident result\n",
            "\n",
            "\n",
            "Bot: Hi, Welcome to our bank!\n",
            "You: Q\n",
            "Bot: It was good to be of help.\n"
          ]
        }
      ]
    }
  ]
}